{
 "cells": [
  {
   "cell_type": "code",
   "execution_count": 1,
   "metadata": {},
   "outputs": [],
   "source": [
    "import netket,time,numpy\n",
    "from honeycomb import *"
   ]
  },
  {
   "cell_type": "code",
   "execution_count": 2,
   "metadata": {},
   "outputs": [
    {
     "name": "stdout",
     "output_type": "stream",
     "text": [
      "20/03/13 23:09:04 590<get_graph_reza:106,DEBUG> \n",
      "x_edge number: 4, [[1, 2, 0], [3, 0, 0], [5, 6, 0], [7, 4, 0]]\n",
      "y_edge number: 4, [[0, 1, 1], [2, 3, 1], [4, 5, 1], [6, 7, 1]]\n",
      "z_edge number: 4, [[1, 4, 2], [3, 6, 2], [5, 0, 2], [7, 2, 2]]\n",
      "graph spinor number: 8, edge number: 12, is_bipartite: True\n",
      "hilbert size: 8, n_states: 256\n",
      "exact_diag used 0 s with result:\n",
      " -6.9282032303,\n"
     ]
    },
    {
     "data": {
      "text/plain": [
       "<netket.exact.EdResult at 0x7fe84b44ca90>"
      ]
     },
     "execution_count": 2,
     "metadata": {},
     "output_type": "execute_result"
    }
   ],
   "source": [
    "#This cell will show how to calc gs energy by direct diagnolize\n",
    "size=(2,2)\n",
    "#get Hamiltonian, you can use hamiltonian.hilbert to get its Hilbert space\n",
    "hamiltonian=get_hamiltonian(size)\n",
    "#exact_diag will print and also return its eigenvalues(and eigenvectors)\n",
    "exact_diag(hamiltonian,first_n=1,compute_eigenvectors=False)"
   ]
  },
  {
   "cell_type": "code",
   "execution_count": 3,
   "metadata": {},
   "outputs": [
    {
     "name": "stdout",
     "output_type": "stream",
     "text": [
      "20/03/13 23:09:07 925<rbm:172,INFO> machine has 152 parameters\n",
      "20/03/13 23:09:07 929<rbm:173,INFO> rbm start with 0kx0k lr=0.030 df=1.0000\n",
      "20/03/13 23:10:31 916<rbm:182,INFO> optimize machine takes 83.984784s\n"
     ]
    }
   ],
   "source": [
    "#This cell will show how to calc gs energy useing rbm\n",
    "alpha=2\n",
    "lr=0.03\n",
    "n_iter=600 #should be at least 600 \n",
    "output_prefix=\"calc_gs_example\"\n",
    "ma=netket.machine.RbmSpin(hilbert=hamiltonian.hilbert,alpha=alpha)\n",
    "ma.init_random_parameters(sigma=0.1)\n",
    "#t is the time consumed by rbm\n",
    "#the results will write in the folder of script\n",
    "t=rbm(hamiltonian,ma,output_prefix,learning_rate=lr,n_iter=n_iter,n_samples=400)"
   ]
  },
  {
   "cell_type": "code",
   "execution_count": 4,
   "metadata": {},
   "outputs": [
    {
     "name": "stdout",
     "output_type": "stream",
     "text": [
      "20/03/13 23:11:09 826<measure:196,INFO> begin measure 1 obervables with 1000x100\n",
      "20/03/13 23:11:38 343<measure:200,INFO> measuring 1 observables takes 28.515472s\n",
      "20/03/13 23:11:38 350<measure:223,INFO> Energy: -6.684244(0.002496)\n",
      "20/03/13 23:11:38 351<measure:223,INFO> sz0: 0.032702(0.014828)\n",
      "20/03/13 23:11:38 353<flip_spins:261,INFO> n_v: 8, n_h: 16, n_par: 152\n",
      "20/03/13 23:11:38 354<flip_spins:283,INFO> fliped ((0, 'xz'), (1, 'yz'))\n",
      "20/03/13 23:11:38 355<measure:196,INFO> begin measure 1 obervables with 1000x100\n",
      "20/03/13 23:12:06 962<measure:200,INFO> measuring 1 observables takes 28.603405s\n",
      "20/03/13 23:12:06 966<measure:223,INFO> Energy: -2.301288(0.023165)\n",
      "20/03/13 23:12:06 967<measure:223,INFO> sz0: -0.026915(0.014501)\n"
     ]
    }
   ],
   "source": [
    "#This cell will show how to flip a rbm and measure\n",
    "sz0=netket.operator.LocalOperator(hamiltonian.hilbert,numpy.asarray([[1.0,0.0],[0.0,-1.0]]),[0])\n",
    "#measure will print some results and also return more infos\n",
    "m1=measure(hamiltonian,ma,{\"sz0\":sz0},n_iter=100,n_samples=1000)\n",
    "#2*2*2*2 is the number of hidden nodes of this machine\n",
    "ma.parameters=flip_spins(ma,2*2*2*2,((0,\"xz\"),(1,\"yz\")))\n",
    "m2=measure(hamiltonian,ma,{\"sz0\":sz0},n_iter=100,n_samples=1000)"
   ]
  },
  {
   "cell_type": "code",
   "execution_count": null,
   "metadata": {},
   "outputs": [],
   "source": []
  }
 ],
 "metadata": {
  "kernelspec": {
   "display_name": "Python 3",
   "language": "python",
   "name": "python3"
  },
  "language_info": {
   "codemirror_mode": {
    "name": "ipython",
    "version": 3
   },
   "file_extension": ".py",
   "mimetype": "text/x-python",
   "name": "python",
   "nbconvert_exporter": "python",
   "pygments_lexer": "ipython3",
   "version": "3.5.2"
  }
 },
 "nbformat": 4,
 "nbformat_minor": 2
}
